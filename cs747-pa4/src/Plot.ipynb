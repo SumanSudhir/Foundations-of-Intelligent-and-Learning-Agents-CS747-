{
 "cells": [
  {
   "cell_type": "code",
   "execution_count": 77,
   "metadata": {},
   "outputs": [],
   "source": [
    "import numpy as np\n",
    "import pandas as pd\n",
    "import matplotlib.pyplot as plt"
   ]
  },
  {
   "cell_type": "code",
   "execution_count": 78,
   "metadata": {},
   "outputs": [],
   "source": [
    "df = pd.read_csv(\"output.txt\", header=None)\n",
    "df2 = pd.read_csv(\"output2.txt\", header=None)"
   ]
  },
  {
   "cell_type": "code",
   "execution_count": 79,
   "metadata": {},
   "outputs": [
    {
     "data": {
      "text/html": [
       "<div>\n",
       "<style scoped>\n",
       "    .dataframe tbody tr th:only-of-type {\n",
       "        vertical-align: middle;\n",
       "    }\n",
       "\n",
       "    .dataframe tbody tr th {\n",
       "        vertical-align: top;\n",
       "    }\n",
       "\n",
       "    .dataframe thead th {\n",
       "        text-align: right;\n",
       "    }\n",
       "</style>\n",
       "<table border=\"1\" class=\"dataframe\">\n",
       "  <thead>\n",
       "    <tr style=\"text-align: right;\">\n",
       "      <th></th>\n",
       "      <th>0</th>\n",
       "      <th>1</th>\n",
       "      <th>2</th>\n",
       "      <th>3</th>\n",
       "      <th>4</th>\n",
       "      <th>5</th>\n",
       "    </tr>\n",
       "  </thead>\n",
       "  <tbody>\n",
       "    <tr>\n",
       "      <th>2005</th>\n",
       "      <td>episode</td>\n",
       "      <td>199</td>\n",
       "      <td>randomSeed</td>\n",
       "      <td>5</td>\n",
       "      <td>time</td>\n",
       "      <td>8889</td>\n",
       "    </tr>\n",
       "    <tr>\n",
       "      <th>2006</th>\n",
       "      <td>episode</td>\n",
       "      <td>199</td>\n",
       "      <td>randomSeed</td>\n",
       "      <td>6</td>\n",
       "      <td>time</td>\n",
       "      <td>8538</td>\n",
       "    </tr>\n",
       "    <tr>\n",
       "      <th>2007</th>\n",
       "      <td>episode</td>\n",
       "      <td>199</td>\n",
       "      <td>randomSeed</td>\n",
       "      <td>7</td>\n",
       "      <td>time</td>\n",
       "      <td>8663</td>\n",
       "    </tr>\n",
       "    <tr>\n",
       "      <th>2008</th>\n",
       "      <td>episode</td>\n",
       "      <td>199</td>\n",
       "      <td>randomSeed</td>\n",
       "      <td>8</td>\n",
       "      <td>time</td>\n",
       "      <td>8883</td>\n",
       "    </tr>\n",
       "    <tr>\n",
       "      <th>2009</th>\n",
       "      <td>episode</td>\n",
       "      <td>199</td>\n",
       "      <td>randomSeed</td>\n",
       "      <td>9</td>\n",
       "      <td>time</td>\n",
       "      <td>8881</td>\n",
       "    </tr>\n",
       "  </tbody>\n",
       "</table>\n",
       "</div>"
      ],
      "text/plain": [
       "            0    1            2  3      4     5\n",
       "2005  episode  199   randomSeed  5   time  8889\n",
       "2006  episode  199   randomSeed  6   time  8538\n",
       "2007  episode  199   randomSeed  7   time  8663\n",
       "2008  episode  199   randomSeed  8   time  8883\n",
       "2009  episode  199   randomSeed  9   time  8881"
      ]
     },
     "execution_count": 79,
     "metadata": {},
     "output_type": "execute_result"
    }
   ],
   "source": [
    "df.tail()"
   ]
  },
  {
   "cell_type": "code",
   "execution_count": 80,
   "metadata": {},
   "outputs": [
    {
     "data": {
      "text/html": [
       "<div>\n",
       "<style scoped>\n",
       "    .dataframe tbody tr th:only-of-type {\n",
       "        vertical-align: middle;\n",
       "    }\n",
       "\n",
       "    .dataframe tbody tr th {\n",
       "        vertical-align: top;\n",
       "    }\n",
       "\n",
       "    .dataframe thead th {\n",
       "        text-align: right;\n",
       "    }\n",
       "</style>\n",
       "<table border=\"1\" class=\"dataframe\">\n",
       "  <thead>\n",
       "    <tr style=\"text-align: right;\">\n",
       "      <th></th>\n",
       "      <th>0</th>\n",
       "      <th>1</th>\n",
       "      <th>2</th>\n",
       "      <th>3</th>\n",
       "      <th>4</th>\n",
       "      <th>5</th>\n",
       "    </tr>\n",
       "  </thead>\n",
       "  <tbody>\n",
       "    <tr>\n",
       "      <th>1644</th>\n",
       "      <td>episode</td>\n",
       "      <td>0</td>\n",
       "      <td>randomSeed</td>\n",
       "      <td>7</td>\n",
       "      <td>time</td>\n",
       "      <td>0</td>\n",
       "    </tr>\n",
       "    <tr>\n",
       "      <th>1645</th>\n",
       "      <td>episode</td>\n",
       "      <td>0</td>\n",
       "      <td>randomSeed</td>\n",
       "      <td>8</td>\n",
       "      <td>time</td>\n",
       "      <td>0</td>\n",
       "    </tr>\n",
       "    <tr>\n",
       "      <th>1646</th>\n",
       "      <td>episode</td>\n",
       "      <td>0</td>\n",
       "      <td>randomSeed</td>\n",
       "      <td>9</td>\n",
       "      <td>time</td>\n",
       "      <td>0</td>\n",
       "    </tr>\n",
       "    <tr>\n",
       "      <th>1647</th>\n",
       "      <td>episode</td>\n",
       "      <td>1</td>\n",
       "      <td>randomSeed</td>\n",
       "      <td>0</td>\n",
       "      <td>time</td>\n",
       "      <td>1724</td>\n",
       "    </tr>\n",
       "    <tr>\n",
       "      <th>1648</th>\n",
       "      <td>episode</td>\n",
       "      <td>1</td>\n",
       "      <td>randomSeed</td>\n",
       "      <td>1</td>\n",
       "      <td>time</td>\n",
       "      <td>1221</td>\n",
       "    </tr>\n",
       "  </tbody>\n",
       "</table>\n",
       "</div>"
      ],
      "text/plain": [
       "            0  1            2  3      4     5\n",
       "1644  episode  0   randomSeed  7   time     0\n",
       "1645  episode  0   randomSeed  8   time     0\n",
       "1646  episode  0   randomSeed  9   time     0\n",
       "1647  episode  1   randomSeed  0   time  1724\n",
       "1648  episode  1   randomSeed  1   time  1221"
      ]
     },
     "execution_count": 80,
     "metadata": {},
     "output_type": "execute_result"
    }
   ],
   "source": [
    "df2.tail()"
   ]
  },
  {
   "cell_type": "code",
   "execution_count": 81,
   "metadata": {},
   "outputs": [],
   "source": [
    "mean_time = []\n",
    "episode = []"
   ]
  },
  {
   "cell_type": "code",
   "execution_count": 82,
   "metadata": {},
   "outputs": [],
   "source": [
    "for i in range(len(np.unique(df[1]))):\n",
    "    same_episode = df[df[1] == i]\n",
    "    mean_time.append(np.mean(same_episode[5]))\n",
    "    episode.append(i)"
   ]
  },
  {
   "cell_type": "code",
   "execution_count": 83,
   "metadata": {},
   "outputs": [],
   "source": [
    "mean_time2 = []\n",
    "episode2 = []"
   ]
  },
  {
   "cell_type": "code",
   "execution_count": 84,
   "metadata": {},
   "outputs": [],
   "source": [
    "for i in range(len(np.unique(df2[1]))):\n",
    "    same_episode = df2[df2[1] == i]\n",
    "    mean_time2.append(np.mean(same_episode[5]))\n",
    "    episode2.append(i)"
   ]
  },
  {
   "cell_type": "code",
   "execution_count": 85,
   "metadata": {},
   "outputs": [
    {
     "data": {
      "image/png": "[encoded data removed]",
      "text/plain": [
       "<Figure size 936x576 with 1 Axes>"
      ]
     },
     "metadata": {
      "needs_background": "light"
     },
     "output_type": "display_data"
    }
   ],
   "source": [
    "plt.figure(figsize=(13,8))\n",
    "plt.plot(mean_time, episode, \"r-*\", label = 'windyGridWorld')#, markersize=10)\n",
    "plt.plot(mean_time2, episode2, \"g-*\", label = 'windyGridWorld2')#, markersize=10)\n",
    "plt.xlabel('time')\n",
    "plt.ylabel('episode')\n",
    "plt.legend()\n",
    "plt.legend(loc='best')\n",
    "plt.savefig('windyGridWorld',dpi=500)"
   ]
  },
  {
   "cell_type": "code",
   "execution_count": null,
   "metadata": {},
   "outputs": [],
   "source": []
  }
 ],
 "metadata": {
  "kernelspec": {
   "display_name": "Python 3",
   "language": "python",
   "name": "python3"
  },
  "language_info": {
   "codemirror_mode": {
    "name": "ipython",
    "version": 3
   },
   "file_extension": ".py",
   "mimetype": "text/x-python",
   "name": "python",
   "nbconvert_exporter": "python",
   "pygments_lexer": "ipython3",
   "version": "3.7.3"
  }
 },
 "nbformat": 4,
 "nbformat_minor": 4
}
